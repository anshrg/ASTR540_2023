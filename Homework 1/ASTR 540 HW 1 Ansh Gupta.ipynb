{
 "cells": [
  {
   "cell_type": "markdown",
   "id": "63a79197",
   "metadata": {},
   "source": [
    "# ASTR 540 Homework 1 - Ansh Gupta"
   ]
  },
  {
   "cell_type": "markdown",
   "id": "1060abc1",
   "metadata": {},
   "source": [
    "## Problem 1"
   ]
  },
  {
   "cell_type": "markdown",
   "id": "72616e4e",
   "metadata": {},
   "source": [
    "It's important to have a precise definition of the word 'galaxy' because having accurate terminology ensures that astronomers can communicate clearly and exactly about the class of objects that they are observing and studying. Although some galaxies can be intuitively separated from other kinds of objects like star clusters, there have been increaing numbers of objects that blur the lines between galaxy or not based on previously used definitions. Specifically, ultra-compact dwarfs (UCDs), ultra-faint sattelites of the Milky Way, and tidal dwarfs (TDs) have challenged previous definitions for what a galaxy is.\n",
    "\n",
    "At a base level, the definition of a galaxy requires the presence of dark matter, as opposed to clusters. However, this isn't an ideal definition since dark matter is still theoretical. Some previous definitions that proved to be ambiguous are size based classifications (eg. half-light radius minimums), which failed because smaller and less luminous populations of stars kept getting discovered that had kinematics/stellar populations consistent with galaxies; and a requirement for the complexity of stellar populations, which failed as certain globular clusters were found that had non-trivial spreads in their populations.\n",
    "\n",
    "Instead, the authors propose a definition that is related to but slightly more general than the dark matter definition. They propose that a galaxy is any group of stars bound by gravity which can't be explained by Newton's laws given their baryonic mass. If kinematics can be derived for a galaxy, this can often be enough to directly test if the motion can be explain by Newtonian gravity. However, they authors propose an indirect way to test for the presence of a deep gravitational well. Supernovae are extremely energetic, and eject high-metallicity material at very high speeds. A cluster of stars without dark matter won't be able to hold onto the 'ejecta' from supernovae, and thus won't form multiple populations of stars enriched with new elements. In contrast, the deep potential wells of galaxies can funnel supernovae winds back into new stars, causing a variety of metallicities throughout its stellar population."
   ]
  },
  {
   "cell_type": "markdown",
   "id": "18e8899d",
   "metadata": {},
   "source": [
    "## Problem 2"
   ]
  },
  {
   "cell_type": "code",
   "execution_count": 11,
   "id": "3f9cb9f2",
   "metadata": {},
   "outputs": [],
   "source": [
    "import numpy as np\n",
    "import pandas as pd\n",
    "import matplotlib.pyplot as plt\n",
    "import astropy.units as u"
   ]
  },
  {
   "cell_type": "code",
   "execution_count": 2,
   "id": "df9f8470",
   "metadata": {},
   "outputs": [
    {
     "name": "stdout",
     "output_type": "stream",
     "text": [
      "Sunlike star absolute magnitude = 4.83\n",
      "Sunlike star apparent magnitude = 19.3\n"
     ]
    }
   ],
   "source": [
    "# Absolute magnitude is distance independent.\n",
    "M_sun = M_1 = 4.83\n",
    "print('Sunlike star absolute magnitude =', M_1)\n",
    "\n",
    "# M = m - 5 * log(d) + 5\n",
    "m_1 = M_1 + 5*np.log10(8000) - 5\n",
    "print(f'Sunlike star apparent magnitude = {m_1:.3}')"
   ]
  },
  {
   "cell_type": "code",
   "execution_count": 3,
   "id": "a5c255d8",
   "metadata": {},
   "outputs": [
    {
     "name": "stdout",
     "output_type": "stream",
     "text": [
      "Galaxy absolute magnitude = -22.67\n",
      "Galaxy apparent magnitude = 2.33\n"
     ]
    }
   ],
   "source": [
    "# M1 = M2 - 2.5 * log(L1/L2)\n",
    "M_2 = M_sun - 2.5*np.log10(1e11)\n",
    "print('Galaxy absolute magnitude =', M_2)\n",
    "\n",
    "# M = m - 5 * log(d) + 5\n",
    "m_2 = M_2 + 5*np.log10(1e6) - 5\n",
    "print(f'Galaxy apparent magnitude = {m_2:.3}')"
   ]
  },
  {
   "cell_type": "markdown",
   "id": "ae809777",
   "metadata": {},
   "source": [
    "## Problem 3"
   ]
  },
  {
   "cell_type": "markdown",
   "id": "12dc71b5",
   "metadata": {},
   "source": [
    "$F = \\frac{L}{4\\pi d^2}$\\\n",
    "Objects of equal absolute magnitude have equal luminosities, so the ratio of their fluxes is just\\\n",
    "$\\frac{F_1}{F_2} = \\frac{d_2^2}{d_1^2} = \\left( \\frac{d_2}{d_1} \\right)^2 $\\"
   ]
  },
  {
   "cell_type": "markdown",
   "id": "21357ce9",
   "metadata": {},
   "source": [
    "$M_1 = M_2$\\\n",
    "$m_1 - 5log(d_1) + 5 = m_2 - 5log(d_2) + 5$\\\n",
    "$m_1 - m_2 = 5log \\left( \\frac{d_1}{d_2} \\right) $\\\n",
    "$\\frac{d_1}{d_2} = 10^{\\frac{m_1 - m_2}{5}} $\n",
    "\n",
    "The ratio of volumes of spheres with radii d are:\\\n",
    "$V_1 \\div V_2 = \\frac{4}{3}\\pi d_1^3 \\div \\frac{4}{3}\\pi d_2^3 = \\left(\\frac{d_1}{d_2}\\right)^3 $"
   ]
  },
  {
   "cell_type": "code",
   "execution_count": 4,
   "id": "7f3a9d7a",
   "metadata": {},
   "outputs": [
    {
     "name": "stdout",
     "output_type": "stream",
     "text": [
      "Ratio of volumes at which an object of a given absolute magnitude would be observable: 251.19\n"
     ]
    }
   ],
   "source": [
    "m_diff = 4\n",
    "d_ratio = 10**(m_diff/5)\n",
    "vol_ratio = d_ratio**3\n",
    "print(f'Ratio of volumes at which an object of a given absolute magnitude would be observable: {vol_ratio:.5}')"
   ]
  },
  {
   "cell_type": "markdown",
   "id": "fc109457",
   "metadata": {},
   "source": [
    "## Problem 4"
   ]
  },
  {
   "cell_type": "code",
   "execution_count": 422,
   "id": "025fb4f8",
   "metadata": {},
   "outputs": [
    {
     "name": "stdout",
     "output_type": "stream",
     "text": [
      "a) Distance at which Sun-like stars could be resolved to 20 μas: 1845.02 pc\n",
      "The error budget given on these measurements is at 10%, which should propagate linearly through the distance equation\n"
     ]
    }
   ],
   "source": [
    "sun_M = 4.67\n",
    "sun_d = 4.84e-6 # sun distance in pc\n",
    "sun_m = sun_M + 5*np.log10(sun_d) - 5\n",
    "\n",
    "obs_m = 16\n",
    "obs_d = sun_d * 10**((obs_m - sun_m)/5)\n",
    "print(f'a) Distance at which Sun-like stars could be resolved to 20 μas: {obs_d:.6} pc')\n",
    "print('The error budget given on these measurements is at 10%, which should propagate \\\n",
    "linearly through the distance equation')"
   ]
  },
  {
   "cell_type": "markdown",
   "id": "decb149d",
   "metadata": {},
   "source": [
    "With the Gaia apparent magnitude, the website explains how to compute the uncertainty in the parallax. As a sanity check, the apparent magnitude turns out to be ~15 and the number I compute is very close to the one from the corresponding row from the \"Astrometric performance\" table. With the parallax uncertainty of ~17 μas for this object, we can convert this to a proper motion uncertainty using the table just below the previous one, and use the distance we calculate to get an on-sky velocity.\n",
    "\n",
    "The table under the section titled \"Gaia Data Release 3 (Gaia DR3)\" lists the radial velocity uncertainties as constants which are plugged into an equation. For the Sun's spectral type (G2V), read off the constants from the G2 column."
   ]
  },
  {
   "cell_type": "code",
   "execution_count": 439,
   "id": "3b5ba608",
   "metadata": {},
   "outputs": [
    {
     "name": "stdout",
     "output_type": "stream",
     "text": [
      "b) Approximate uncertainty in on-sky velocity of Sun-like star in LMC: 1.09 km/s\n",
      "Approximate uncertainty in radial velocity of Sun-like star in LMC: 18.3 km/s\n",
      "These are both a lot lower than the Sun's own orbital velocity of ~ 220 km/s\n"
     ]
    }
   ],
   "source": [
    "obs_M_2 = -3.3\n",
    "obs_d_2 = 50*1e3\n",
    "obs_m_2 = obs_M_2 + 5*np.log10(obs_d_2) - 5\n",
    "\n",
    "z = 10**(0.4*(obs_m_2-15))\n",
    "T = 0.527\n",
    "parallax_error_2 = T * (40 + 800*z + 30*z**2)**(1/2)\n",
    "\n",
    "# From website, proper motion error = 0.27 * sigma_pi (parallax standard error) [μas/yr]\n",
    "proper_motion_err = 0.27 * parallax_error_2\n",
    "proper_motion_err_rad = proper_motion_err * 1e-6 / 206265\n",
    "sigma_vsky = (obs_d_2 * 3.09e13) * proper_motion_err_rad / 3600 / 24 / 365 # pc to km and yr to s\n",
    "print(f\"b) Approximate uncertainty in on-sky velocity of Sun-like star in LMC: {sigma_vsky:.3} km/s\")\n",
    "\n",
    "a = 1.00\n",
    "b = 5.50\n",
    "sigma_floor = 0.13\n",
    "G_RVS = 14.0\n",
    "\n",
    "sigma_vrad = sigma_floor + b*np.exp(a * (obs_m_2 - G_RVS))\n",
    "print(f\"Approximate uncertainty in radial velocity of Sun-like star in LMC: {sigma_vrad:.3} km/s\")\n",
    "print(\"These are both a lot lower than the Sun's own orbital velocity of ~ 220 km/s\")"
   ]
  },
  {
   "cell_type": "markdown",
   "id": "87bdf1ec",
   "metadata": {},
   "source": [
    "## Problem 5"
   ]
  },
  {
   "cell_type": "code",
   "execution_count": 191,
   "id": "cdb3ea12",
   "metadata": {},
   "outputs": [],
   "source": [
    "df = pd.read_csv('cluster_18.dat', names=['g', 'r'], delimiter=' ')\n",
    "color = df['g'] - df['r']\n",
    "mag = df['r']"
   ]
  },
  {
   "cell_type": "code",
   "execution_count": 294,
   "id": "3d6717bc",
   "metadata": {},
   "outputs": [],
   "source": [
    "iso_df = pd.read_fwf('iso_sdss/sdss/iso_1.txt')\n",
    "iso_2_df = pd.read_fwf('iso_sdss/sdss/iso_2.txt')\n",
    "iso_3_df = pd.read_fwf('iso_sdss/sdss/iso_3.txt')\n",
    "start_index = 70\n",
    "\n",
    "iso_color = iso_df['g'].astype(float) - iso_df['r'].astype(float)\n",
    "iso_color = iso_color.values[start_index:]\n",
    "iso_mag = iso_df['r'].astype(float)\n",
    "iso_mag = iso_mag.values[start_index:]\n",
    "\n",
    "iso_2_color = iso_2_df['g'].astype(float) - iso_2_df['r'].astype(float)\n",
    "iso_2_color = iso_2_color.values[start_index:]\n",
    "iso_2_mag = iso_2_df['r'].astype(float)\n",
    "iso_2_mag = iso_2_mag.values[start_index:]\n",
    "\n",
    "iso_3_color = iso_3_df['g'].astype(float) - iso_3_df['r'].astype(float)\n",
    "iso_3_color = iso_3_color.values[start_index:]\n",
    "iso_3_mag = iso_3_df['r'].astype(float)\n",
    "iso_3_mag = iso_3_mag.values[start_index:]"
   ]
  },
  {
   "cell_type": "code",
   "execution_count": 318,
   "id": "ac526cdf",
   "metadata": {
    "scrolled": false
   },
   "outputs": [
    {
     "data": {
      "text/plain": [
       "<matplotlib.legend.Legend at 0x16534bf8>"
      ]
     },
     "execution_count": 318,
     "metadata": {},
     "output_type": "execute_result"
    },
    {
     "data": {
      "image/png": "[encoded data removed]",
      "text/plain": [
       "<Figure size 504x504 with 1 Axes>"
      ]
     },
     "metadata": {
      "needs_background": "light"
     },
     "output_type": "display_data"
    }
   ],
   "source": [
    "plt.figure(figsize=(7, 7))\n",
    "plt.scatter(color, mag, c='black', s=0.1)\n",
    "\n",
    "offset = 15.9\n",
    "offset_2 = 15.3\n",
    "offset_3 = 16.1\n",
    "plt.plot(iso_color, iso_mag+offset, c='blue', label=r'[Fe/H] = -1.5, [α/Fe] = 0.0, age = 13 Gyr')\n",
    "plt.plot(iso_2_color, iso_2_mag+offset_2, c='red', label=r'[Fe/H] = -1.5, [α/Fe] = 0.4, age = 13 Gyr')\n",
    "plt.plot(iso_3_color, iso_3_mag+offset_3, c='green', label=r'[Fe/H] = -2.0, [α/Fe] = 0.6, age = 11.5 Gyr')\n",
    "\n",
    "plt.gca().invert_yaxis()\n",
    "plt.title(\"Color-Magnitude Diagram for SDSS Stars With Overplotted Isochrones\")\n",
    "plt.xlabel('g - r')\n",
    "plt.ylabel('r')\n",
    "plt.xlim(-0.4, 2.1)\n",
    "plt.legend()"
   ]
  },
  {
   "cell_type": "markdown",
   "id": "4ceadbb5",
   "metadata": {},
   "source": [
    "b)\\\n",
    "(i) Stars fainter than r $\\sim$ 22 are likely too faint to be detected. Stars above r $\\sim$ 13 are extremely luminous, so may not be common enough to be represented in this population. Otherwise, they may have all burned out by now and only be left as remnants.\n",
    "\n",
    "(ii) Stars in this region may be variable stars, so their magnitude has significant variability over short periods of time causing large uncertainties in their positions on the color-mag diagram.\n",
    "\n",
    "(iii) These stars may be background stars not part of the globular cluster. Since they're not at the same distance, and also have different ages/compositions, they are not a true part of this stellar population."
   ]
  },
  {
   "cell_type": "markdown",
   "id": "ce464ce9",
   "metadata": {},
   "source": [
    "c)\\\n",
    "I fitted a few isochrones by eye that seem roughly consistent with the data. From this, it seems like the uncertainties in both $[Fe/H]$ and $[α/Fe]$ are around 0.5-1, and the uncertainty in the age of the cluster is around 1-2 Gyr. The distance to the cluster can be calculated since we know the offset between the apparent magnitudes (real data) and absolute magnitude (isochrones). Unfortunately I'm not sure how to account for foreground reddening, so that puts additional uncertainty on the results. But using the blue isochone:"
   ]
  },
  {
   "cell_type": "code",
   "execution_count": 322,
   "id": "2bea92f2",
   "metadata": {},
   "outputs": [
    {
     "name": "stdout",
     "output_type": "stream",
     "text": [
      "Distance to star cluster: 15135.61 pc\n",
      "Approximate uncertainty in distance to star cluster: 1460.257 pc ~= 1000-2000 pc\n"
     ]
    }
   ],
   "source": [
    "distmod = offset\n",
    "cluster_d = 10**(1 + distmod/5)\n",
    "print(f'Distance to star cluster: {cluster_d:.7} pc')\n",
    "\n",
    "distmod_unc = 0.2\n",
    "cluster_d_unc = 10**(1 + (distmod + distmod_unc)/5) - cluster_d\n",
    "print(f'Approximate uncertainty in distance to star cluster: {cluster_d_unc:.7} pc ~= 1000-2000 pc')"
   ]
  },
  {
   "cell_type": "markdown",
   "id": "cff3f6cb",
   "metadata": {},
   "source": [
    "## Problem 6"
   ]
  },
  {
   "cell_type": "code",
   "execution_count": 394,
   "id": "8e357b96",
   "metadata": {},
   "outputs": [
    {
     "name": "stdout",
     "output_type": "stream",
     "text": [
      "a) Distance to Barnard's Star: 1.832 pc\n",
      "b) Tangential velocity = 9.18e-05 pc/year ~ 90 km/s\n",
      "c) Space velocity = 140.44 km/s; angle = 39.7 degrees\n",
      "*This angle is between the space velocity of Barnard's Star and the line connecting it to the Solar System\n",
      "d) Time to closest approach: 9806.17 years\n",
      "e) Separation distance at closest approach: 1.17 pc\n",
      "f) Apparent magnitude at closest approach: 8.57\n"
     ]
    }
   ],
   "source": [
    "p = 0.546\n",
    "d_barn = 1/p\n",
    "print(f'a) Distance to Barnard\\'s Star: {d_barn:.4} pc')\n",
    "\n",
    "rad_proper_motion = 10.34/206265\n",
    "v_tangent_pc = rad_proper_motion * d_barn\n",
    "print(f'b) Tangential velocity = {v_tangent_pc:.2e} pc/year ~ 90 km/s')\n",
    "\n",
    "v_rad = -108\n",
    "v_tangent = v_tangent_pc * 977812\n",
    "v = np.sqrt(v_rad**2 + v_tangent**2)\n",
    "angle = np.arctan2(v_tangent, -1*v_rad)\n",
    "print(f'c) Space velocity = {v:.5} km/s; angle = {angle*180/np.pi:.3} degrees')\n",
    "print('*This angle is between the space velocity of Barnard\\'s Star and the line connecting it to the Solar System')\n",
    "\n",
    "# Draw a triangle, where one vertex is the Sun (where the right angle is), one vertex is the current position of \n",
    "# Barnard's Star, and the third is its position when it has moved 'completely radially' towards us. The shortest\n",
    "# distance will then be a perpendicular bisector dropped down from the 'Sun vertex' onto the line representing\n",
    "# the motion of the star. This divides the entire right triangle up into small ones which can be individually analyzed\n",
    "# to find the travel time to the closest point (where the bisector hits the path of the star) and its distance.\n",
    "\n",
    "# cos(angle) = distance_to_travel / current_distance\n",
    "distance_to_travel = np.cos(angle) * d_barn\n",
    "travel_time = distance_to_travel / (v/977812) # convert velocity to pc/yr\n",
    "print(f'd) Time to closest approach: {travel_time:.6} years')\n",
    "\n",
    "# sin(angle) = closest_distance / current_distance\n",
    "closest_distance = np.sin(angle) * d_barn\n",
    "print(f'e) Separation distance at closest approach: {closest_distance:.3} pc')\n",
    "\n",
    "# m1 - m2 = 5log(d1/d2)\n",
    "m_current = 9.54\n",
    "m_closest = 5*np.log10(closest_distance/d_barn) + m_current\n",
    "print(f'f) Apparent magnitude at closest approach: {m_closest:.3}')"
   ]
  },
  {
   "cell_type": "markdown",
   "id": "e4ec4329",
   "metadata": {},
   "source": [
    "## Problem 7"
   ]
  },
  {
   "cell_type": "markdown",
   "id": "33fe6081",
   "metadata": {},
   "source": [
    "Looking at Figure 1.10 in S&G shows the orientation of galactic coordinates. We can use the equation on slide 24 of lecture 5 to determine the expected sign of the velocities.\n",
    "\n",
    "At longitudes between 0 and 90 degrees, sin(l) is always positive. However, this slice of the MW includes stars closer to the galactic center which complete an orbit more quickly than us, which will appear to move away, and stars further out in the disk that the Sun will 'catch up' to as it completes an orbit more quickly, and this latter population will appear to be moving towards us. Numerically, it includes stars that have a greater and lesser period than the Sun, so V/R can both be greater than and less than V0/R0. As a result, there are stars that should appear to be moving both towards and away from us and the sign of V_r can be both positive and negative. Comparing to S&G figure 2.20, we do indeed see V_r has both signs.\n",
    "\n",
    "Between 90 and 180 degrees, sin(l) is always positive. However, this quadrant only contains stars that are exterior to the Sun's orbit, so V/R < V0/R0, and thus V_r as a whole will always be negative. This makes intuitive sense, since the Sun is 'catching up' to these stars and they should appear to move towards us. Comparing to S&G figure 2.20, this trend generally seems true but there are some stars with slightly positive V_r, which might reflect the fact that the orbits are not perfectly circular.\n",
    "\n",
    "Between -180 and -90 degrees, sin(l) is always negative. This quadrant also only contains stars exterior to the Sun, so V/R < V0/R0 and V_r as a whole will be positive. Logically, this makes sense as the Sun 'outpaces' these stars and they appear to move away from us. S&G reflects this accurately for the most part, but again some stars having slightly positive velocities means our approximation of circular orbits is probably bad (and we ignore proper motions, etc.)\n",
    "\n",
    "Between -90 and 0 degrees, sin(l) is always negative. But this quadrant again has stars both interior to and exterior to the Sun, so V/R can both be greater than and less than V0/R0 and V_r can be both positive and negative. This is accurately reflected in the plot."
   ]
  }
 ],
 "metadata": {
  "kernelspec": {
   "display_name": "Python 3 (ipykernel)",
   "language": "python",
   "name": "python3"
  },
  "language_info": {
   "codemirror_mode": {
    "name": "ipython",
    "version": 3
   },
   "file_extension": ".py",
   "mimetype": "text/x-python",
   "name": "python",
   "nbconvert_exporter": "python",
   "pygments_lexer": "ipython3",
   "version": "3.9.7"
  }
 },
 "nbformat": 4,
 "nbformat_minor": 5
}
